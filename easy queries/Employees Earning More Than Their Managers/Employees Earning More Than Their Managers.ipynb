{
 "cells": [
  {
   "cell_type": "code",
   "execution_count": null,
   "metadata": {},
   "outputs": [],
   "source": [
    "Wrong answer _ keeping it to understand why it was wrong\n",
    "\n",
    "select name from employee ex\n",
    "\n",
    "join\n",
    "\n",
    "(\n",
    "select e.id as idx, salary\n",
    "from employee e\n",
    "where e.id=e.managerid\n",
    ") fog\n",
    "\n",
    "on ex.id=fog.idx\n",
    "\n",
    "where ex.salary>fog.salary\n",
    "\n",
    ";\n",
    "    "
   ]
  },
  {
   "cell_type": "code",
   "execution_count": null,
   "metadata": {},
   "outputs": [],
   "source": [
    "Leetcode submission\n",
    "\n",
    "select e2.name as Employee\n",
    "from employee e1\n",
    "join employee e2\n",
    "on e1.id = e2.managerid\n",
    "where e2.salary > e1.salary;\n",
    "\n",
    "Runtime: 960 ms, faster than 5.96% of MySQL online submissions for Employees Earning More Than Their Managers.\n",
    "Memory Usage: 0B, less than 100.00% of MySQL online submissions for Employees Earning More Than Their Managers.\n"
   ]
  }
 ],
 "metadata": {
  "kernelspec": {
   "display_name": "Python 3",
   "language": "python",
   "name": "python3"
  },
  "language_info": {
   "codemirror_mode": {
    "name": "ipython",
    "version": 3
   },
   "file_extension": ".py",
   "mimetype": "text/x-python",
   "name": "python",
   "nbconvert_exporter": "python",
   "pygments_lexer": "ipython3",
   "version": "3.7.4"
  }
 },
 "nbformat": 4,
 "nbformat_minor": 2
}
