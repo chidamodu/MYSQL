{
 "cells": [
  {
   "cell_type": "code",
   "execution_count": null,
   "metadata": {},
   "outputs": [],
   "source": [
    "select p.FirstName as FirstName, p.LastName as LastName, a.City as City, a.State as State\n",
    "from Person p\n",
    "left join Address a\n",
    "on p.PersonId=a.PersonId;\n",
    "\n",
    "\n",
    "\n",
    "Runtime: 307 ms, faster than 51.68% of MySQL online submissions for Combine Two Tables.\n",
    "Memory Usage: 0B, less than 100.00% of MySQL online submissions for Combine Two Tables.\n",
    "\n",
    "\n"
   ]
  },
  {
   "cell_type": "code",
   "execution_count": null,
   "metadata": {},
   "outputs": [],
   "source": [
    "select FirstName, LastName, City, State\n",
    "from person\n",
    "left join address\n",
    "using (PersonId);\n",
    "\n",
    "Runtime: 316 ms, faster than 49.38% of MySQL online submissions for Combine Two Tables.\n",
    "Memory Usage: 0B, less than 100.00% of MySQL online submissions for Combine Two Tables."
   ]
  }
 ],
 "metadata": {
  "kernelspec": {
   "display_name": "Python 3",
   "language": "python",
   "name": "python3"
  },
  "language_info": {
   "codemirror_mode": {
    "name": "ipython",
    "version": 3
   },
   "file_extension": ".py",
   "mimetype": "text/x-python",
   "name": "python",
   "nbconvert_exporter": "python",
   "pygments_lexer": "ipython3",
   "version": "3.7.4"
  }
 },
 "nbformat": 4,
 "nbformat_minor": 2
}
