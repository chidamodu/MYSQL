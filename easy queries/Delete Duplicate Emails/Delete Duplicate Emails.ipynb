{
 "cells": [
  {
   "cell_type": "code",
   "execution_count": null,
   "metadata": {},
   "outputs": [],
   "source": [
    "Write a SQL query to delete all duplicate email entries in a table named Person, keeping only unique emails based on its smallest Id.\n",
    "\n",
    "+----+------------------+\n",
    "| Id | Email            |\n",
    "+----+------------------+\n",
    "| 1  | john@example.com |\n",
    "| 2  | bob@example.com  |\n",
    "| 3  | john@example.com |\n",
    "+----+------------------+\n",
    "Id is the primary key column for this table.\n",
    "For example, after running your query, the above Person table should have the following rows:\n",
    "\n",
    "+----+------------------+\n",
    "| Id | Email            |\n",
    "+----+------------------+\n",
    "| 1  | john@example.com |\n",
    "| 2  | bob@example.com  |\n",
    "+----+------------------+\n",
    "\n",
    "Note:\n",
    "Your output is the whole Person table after executing your sql. Use delete statement."
   ]
  },
  {
   "cell_type": "code",
   "execution_count": null,
   "metadata": {},
   "outputs": [],
   "source": [
    "DELETE p1 FROM Person p1,\n",
    "    Person p2\n",
    "WHERE\n",
    "    p1.Email = p2.Email AND p1.Id > p2.Id;\n",
    "    \n",
    "    \n",
    "Runtime: 2814 ms, faster than 5.02% of MySQL online submissions for Delete Duplicate Emails.\n",
    "Memory Usage: 0B, less than 100.00% of MySQL online submissions for Delete Duplicate Emails.\n"
   ]
  }
 ],
 "metadata": {
  "kernelspec": {
   "display_name": "Python 3",
   "language": "python",
   "name": "python3"
  },
  "language_info": {
   "codemirror_mode": {
    "name": "ipython",
    "version": 3
   },
   "file_extension": ".py",
   "mimetype": "text/x-python",
   "name": "python",
   "nbconvert_exporter": "python",
   "pygments_lexer": "ipython3",
   "version": "3.7.4"
  }
 },
 "nbformat": 4,
 "nbformat_minor": 2
}
