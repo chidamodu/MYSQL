{
 "cells": [
  {
   "cell_type": "code",
   "execution_count": null,
   "metadata": {},
   "outputs": [],
   "source": [
    "Approach: Using IFNULL and LIMIT clause\n",
    "    \n",
    "Another way to solve the 'NULL' problem is to use IFNULL funtion as below.\n",
    "\n",
    "MySQL\n",
    "\n",
    "SELECT\n",
    "    IFNULL(\n",
    "      (SELECT DISTINCT Salary\n",
    "       FROM Employee\n",
    "       ORDER BY Salary DESC\n",
    "        LIMIT 1 OFFSET 1),\n",
    "    NULL) AS SecondHighestSalary\n",
    "    \n",
    "    \n",
    "Runtime: 455 ms, faster than 7.88% of MySQL online submissions for Second Highest Salary.\n",
    "Memory Usage: 0B, less than 100.00% of MySQL online submissions for Second Highest Salary."
   ]
  }
 ],
 "metadata": {
  "kernelspec": {
   "display_name": "Python 3",
   "language": "python",
   "name": "python3"
  },
  "language_info": {
   "codemirror_mode": {
    "name": "ipython",
    "version": 3
   },
   "file_extension": ".py",
   "mimetype": "text/x-python",
   "name": "python",
   "nbconvert_exporter": "python",
   "pygments_lexer": "ipython3",
   "version": "3.7.4"
  }
 },
 "nbformat": 4,
 "nbformat_minor": 2
}
