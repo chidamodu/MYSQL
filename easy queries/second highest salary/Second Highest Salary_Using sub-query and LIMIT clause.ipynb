{
 "cells": [
  {
   "cell_type": "code",
   "execution_count": null,
   "metadata": {},
   "outputs": [],
   "source": [
    "select \n",
    "(\n",
    "SELECT distinct salary\n",
    "FROM   employee\n",
    "ORDER  BY salary DESC\n",
    "LIMIT  1 OFFSET 1\n",
    ") as SecondHighestSalary\n",
    ";\n",
    "\n",
    "Runtime: 237 ms, faster than 45.41% of MySQL online submissions for Second Highest Salary.\n",
    "Memory Usage: 0B, less than 100.00% of MySQL online submissions for Second Highest Salary."
   ]
  },
  {
   "cell_type": "code",
   "execution_count": null,
   "metadata": {},
   "outputs": [],
   "source": [
    "explanation\n",
    "\n",
    "Algorithm\n",
    "\n",
    "Sort the distinct salary in descend order and then utilize the LIMIT clause to get the second highest salary.\n",
    "\n",
    "SELECT DISTINCT\n",
    "    Salary AS SecondHighestSalary\n",
    "FROM\n",
    "    Employee\n",
    "ORDER BY Salary DESC\n",
    "LIMIT 1 OFFSET 1\n",
    "However, this solution will be judged as 'Wrong Answer' if there is no such second highest salary since there might be\n",
    "only one record in this table. To overcome this issue, we can take this as a temp table.\n",
    "\n",
    "\n",
    "\n",
    "MySQL\n",
    "\n",
    "SELECT\n",
    "    (SELECT DISTINCT\n",
    "            Salary\n",
    "        FROM\n",
    "            Employee\n",
    "        ORDER BY Salary DESC\n",
    "        LIMIT 1 OFFSET 1) AS SecondHighestSalary\n",
    ";"
   ]
  }
 ],
 "metadata": {
  "kernelspec": {
   "display_name": "Python 3",
   "language": "python",
   "name": "python3"
  },
  "language_info": {
   "codemirror_mode": {
    "name": "ipython",
    "version": 3
   },
   "file_extension": ".py",
   "mimetype": "text/x-python",
   "name": "python",
   "nbconvert_exporter": "python",
   "pygments_lexer": "ipython3",
   "version": "3.7.4"
  }
 },
 "nbformat": 4,
 "nbformat_minor": 2
}
