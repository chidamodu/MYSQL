{
 "cells": [
  {
   "cell_type": "code",
   "execution_count": null,
   "metadata": {},
   "outputs": [],
   "source": [
    "select max(salary) as SecondHighestSalary\n",
    "from employee e1\n",
    "where e1.salary not in\n",
    "(\n",
    "select max(salary) from employee\n",
    ")\n",
    ";\n",
    "\n",
    "Runtime: 369 ms, faster than 15.27% of MySQL online submissions for Second Highest Salary.\n",
    "Memory Usage: 0B, less than 100.00% of MySQL online submissions for Second Highest Salary."
   ]
  },
  {
   "cell_type": "code",
   "execution_count": null,
   "metadata": {},
   "outputs": [],
   "source": [
    "SELECT MAX(Salary) AS SecondHighestSalary\n",
    "FROM Employee\n",
    "WHERE Salary < (SELECT MAX(Salary) FROM Employee)\n",
    "\n",
    "Runtime: 273 ms, faster than 34.97% of MySQL online submissions for Second Highest Salary.\n",
    "Memory Usage: 0B, less than 100.00% of MySQL online submissions for Second Highest Salary.\n"
   ]
  },
  {
   "cell_type": "code",
   "execution_count": null,
   "metadata": {},
   "outputs": [],
   "source": [
    "select max(e1.salary) as SecondHighestSalary\n",
    "from employee e1\n",
    "where e1.salary not in\n",
    "(\n",
    "select max(salary) from employee\n",
    ")\n",
    ";\n",
    "\n",
    "Runtime: 781 ms, faster than 5.01% of MySQL online submissions for Second Highest Salary.\n",
    "Memory Usage: 0B, less than 100.00% of MySQL online submissions for Second Highest Salary."
   ]
  }
 ],
 "metadata": {
  "kernelspec": {
   "display_name": "Python 3",
   "language": "python",
   "name": "python3"
  },
  "language_info": {
   "codemirror_mode": {
    "name": "ipython",
    "version": 3
   },
   "file_extension": ".py",
   "mimetype": "text/x-python",
   "name": "python",
   "nbconvert_exporter": "python",
   "pygments_lexer": "ipython3",
   "version": "3.7.4"
  }
 },
 "nbformat": 4,
 "nbformat_minor": 2
}
