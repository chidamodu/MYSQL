{
 "cells": [
  {
   "cell_type": "code",
   "execution_count": null,
   "metadata": {},
   "outputs": [],
   "source": [
    "Given a Weather table, write a SQL query to find all dates Ids with higher temperature compared to its previous \n",
    "(yesterday) dates.\n",
    "\n",
    "+---------+------------------+------------------+\n",
    "| Id(INT) | RecordDate(DATE) | Temperature(INT) |\n",
    "+---------+------------------+------------------+\n",
    "|       1 |       2015-01-01 |               10 |\n",
    "|       2 |       2015-01-02 |               25 |\n",
    "|       3 |       2015-01-03 |               20 |\n",
    "|       4 |       2015-01-04 |               30 |\n",
    "+---------+------------------+------------------+\n",
    "\n",
    "For example, return the following Ids for the above Weather table:\n",
    "\n",
    "+----+\n",
    "| Id |\n",
    "+----+\n",
    "|  2 |\n",
    "|  4 |\n",
    "+----+"
   ]
  },
  {
   "cell_type": "code",
   "execution_count": null,
   "metadata": {},
   "outputs": [],
   "source": [
    "select w1.id\n",
    "from weather w1, weather w2\n",
    "where (w1.Temperature > w2.Temperature) and DATEDIFF(w1.RecordDate, w2.RecordDate)=1;\n",
    "\n",
    "Runtime: 506 ms, faster than 50.50% of MySQL online submissions for Rising Temperature.\n",
    "Memory Usage: 0B, less than 100.00% of MySQL online submissions for Rising Temperature."
   ]
  }
 ],
 "metadata": {
  "kernelspec": {
   "display_name": "Python 3",
   "language": "python",
   "name": "python3"
  },
  "language_info": {
   "codemirror_mode": {
    "name": "ipython",
    "version": 3
   },
   "file_extension": ".py",
   "mimetype": "text/x-python",
   "name": "python",
   "nbconvert_exporter": "python",
   "pygments_lexer": "ipython3",
   "version": "3.7.4"
  }
 },
 "nbformat": 4,
 "nbformat_minor": 2
}
