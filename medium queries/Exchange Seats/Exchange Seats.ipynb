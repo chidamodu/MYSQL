{
 "cells": [
  {
   "cell_type": "code",
   "execution_count": null,
   "metadata": {},
   "outputs": [],
   "source": [
    "Mary wants to change seats for the adjacent students.\n",
    " \n",
    "\n",
    "Can you write a SQL query to output the result for Mary?\n",
    " \n",
    "\n",
    "+---------+---------+\n",
    "|    id   | student |\n",
    "+---------+---------+\n",
    "|    1    | Abbot   |\n",
    "|    2    | Doris   |\n",
    "|    3    | Emerson |\n",
    "|    4    | Green   |\n",
    "|    5    | Jeames  |\n",
    "+---------+---------+\n",
    "For the sample input, the output is:\n",
    " \n",
    "\n",
    "+---------+---------+\n",
    "|    id   | student |\n",
    "+---------+---------+\n",
    "|    1    | Doris   |\n",
    "|    2    | Abbot   |\n",
    "|    3    | Green   |\n",
    "|    4    | Emerson |\n",
    "|    5    | Jeames  |\n",
    "+---------+---------+\n",
    "Note:\n",
    "If the number of students is odd, there is no need to change the last one's seat.\n",
    "\n"
   ]
  },
  {
   "cell_type": "code",
   "execution_count": null,
   "metadata": {},
   "outputs": [],
   "source": [
    "solution:\n",
    "    \n",
    "    \n",
    "    \n",
    "select case\n",
    "when mod(id, 2)=0 then id-1\n",
    "when mod(id, 2)!=0 and id=(select max(id) from seat) then id\n",
    "when mod(id, 2)!=0 then id+1\n",
    "end as id, student\n",
    "from seat\n",
    "order by id;\n",
    "\n",
    "\n",
    "\n",
    "Runtime: 665 ms, faster than 5.38% of MySQL online submissions for Exchange Seats.\n",
    "Memory Usage: 0B, less than 100.00% of MySQL online submissions for Exchange Seats.\n"
   ]
  }
 ],
 "metadata": {
  "kernelspec": {
   "display_name": "Python 3",
   "language": "python",
   "name": "python3"
  },
  "language_info": {
   "codemirror_mode": {
    "name": "ipython",
    "version": 3
   },
   "file_extension": ".py",
   "mimetype": "text/x-python",
   "name": "python",
   "nbconvert_exporter": "python",
   "pygments_lexer": "ipython3",
   "version": "3.7.4"
  }
 },
 "nbformat": 4,
 "nbformat_minor": 2
}
