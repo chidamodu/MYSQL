{
 "cells": [
  {
   "cell_type": "code",
   "execution_count": null,
   "metadata": {},
   "outputs": [],
   "source": [
    "\n",
    "CREATE FUNCTION getNthHighestSalary(N INT) RETURNS INT\n",
    "BEGIN\n",
    "\n",
    "DECLARE M INT;\n",
    "SET M = N - 1;\n",
    "  RETURN (\n",
    "    \n",
    "      SELECT DISTINCT Salary\n",
    "      FROM Employee\n",
    "      ORDER BY Salary DESC\n",
    "      LIMIT 1 OFFSET M\n",
    "      \n",
    "  );\n",
    "END\n",
    "\n",
    "Runtime: 392 ms, faster than 38.30% of MySQL online submissions for Nth Highest Salary.\n",
    "Memory Usage: 0B, less than 100.00% of MySQL online submissions for Nth Highest Salary.\n"
   ]
  },
  {
   "cell_type": "code",
   "execution_count": null,
   "metadata": {},
   "outputs": [],
   "source": [
    "\n",
    "\n",
    "CREATE FUNCTION getNthHighestSalary(N INT) RETURNS INT\n",
    "BEGIN\n",
    "    RETURN (\n",
    "        /* Write your T-SQL query statement below. */\n",
    "        SELECT Salary FROM \n",
    "        (\n",
    "            SELECT\n",
    "                row_number() OVER (ORDER BY salary DESC) AS row_num,            \n",
    "                emp.salary\n",
    "            FROM (SELECT DISTINCT Salary FROM Employee) emp\n",
    "        ) result\n",
    "        WHERE row_num = N        \n",
    "    );\n",
    "END\n",
    "\n",
    "\n",
    "Runtime: 1145 ms, faster than 5.01% of MySQL online submissions for Nth Highest Salary.\n",
    "Memory Usage: 0B, less than 100.00% of MySQL online submissions for Nth Highest Salary.\n",
    "\n"
   ]
  }
 ],
 "metadata": {
  "kernelspec": {
   "display_name": "Python 3",
   "language": "python",
   "name": "python3"
  },
  "language_info": {
   "codemirror_mode": {
    "name": "ipython",
    "version": 3
   },
   "file_extension": ".py",
   "mimetype": "text/x-python",
   "name": "python",
   "nbconvert_exporter": "python",
   "pygments_lexer": "ipython3",
   "version": "3.7.4"
  }
 },
 "nbformat": 4,
 "nbformat_minor": 2
}
